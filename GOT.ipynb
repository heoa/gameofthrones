{
 "cells": [
  {
   "cell_type": "code",
   "execution_count": 1,
   "metadata": {
    "collapsed": false
   },
   "outputs": [],
   "source": [
    "import pysrt\n",
    "from bs4 import BeautifulSoup, Tag\n",
    "import gensim\n",
    "import nltk.data\n",
    "from gensim.models import word2vec\n",
    "from nltk.corpus import stopwords\n",
    "import os\n",
    "from nltk.stem import WordNetLemmatizer\n",
    "import logging\n",
    "#nltk.download()"
   ]
  },
  {
   "cell_type": "code",
   "execution_count": 179,
   "metadata": {
    "collapsed": true
   },
   "outputs": [],
   "source": [
    "wordnet_lemmatizer = WordNetLemmatizer()"
   ]
  },
  {
   "cell_type": "code",
   "execution_count": 180,
   "metadata": {
    "collapsed": false
   },
   "outputs": [
    {
     "data": {
      "text/plain": [
       "u'dog'"
      ]
     },
     "execution_count": 180,
     "metadata": {},
     "output_type": "execute_result"
    }
   ],
   "source": [
    "wordnet_lemmatizer.lemmatize('dogs')"
   ]
  },
  {
   "cell_type": "code",
   "execution_count": 181,
   "metadata": {
    "collapsed": false
   },
   "outputs": [
    {
     "name": "stdout",
     "output_type": "stream",
     "text": [
      "1x01 - Winter is Coming.srt\n"
     ]
    }
   ],
   "source": [
    "print subs.path[4:]"
   ]
  },
  {
   "cell_type": "code",
   "execution_count": 723,
   "metadata": {
    "collapsed": false
   },
   "outputs": [],
   "source": [
    "def clean_text(text):\n",
    "    text = text.replace('\\n',' ')\n",
    "    soup = BeautifulSoup(text)\n",
    "\n",
    "    for tag in soup.find_all('font'):\n",
    "        tag.replaceWith('')\n",
    "    text = soup.get_text()\n",
    "    text = text.replace('they\\'re','they are')\n",
    "    text = text.replace('They\\'re','They are')\n",
    "    text = text.replace('They\\'ve','They have')\n",
    "    text = text.replace('they\\'ve','they have')\n",
    "    text = text.replace('I\\'ve','I have')\n",
    "    text = text.replace('won\\'t','would not')\n",
    "    text = text.replace('don\\'t','do not')\n",
    "    text = text.replace('Don\\'t','Do not')\n",
    "    text = text.replace('he\\'ll','he will')\n",
    "    text = text.replace('It\\'s','It is')\n",
    "    text = text.replace('it\\'s','it is')\n",
    "    text = text.replace('we\\'re','we are')\n",
    "    text = text.replace('you\\'ve','you have')\n",
    "    text = text.replace('You\\'ve','You have')\n",
    "    text = text.replace('You\\'re','You are')\n",
    "    text = text.replace('you\\'re','you are')\n",
    "    text = text.replace('he\\'s','he is')\n",
    "    text = text.replace('He\\'s','He is')\n",
    "    text = text.replace('she\\'s','she is')\n",
    "    text = text.replace('She\\'s','She is')\n",
    "    text = text.replace('I\\'m','I am')\n",
    "    text = text.replace('one\\'s','one is')\n",
    "    text = text.replace('We\\'re','We are')\n",
    "    text = text.replace('we\\'re','we are')\n",
    "    text = text.replace('didn\\'t','did not')\n",
    "    text = text.replace('That\\'s','That is')\n",
    "    text = text.replace('that\\'s','that is')\n",
    "    text = text.replace('There\\'s','There is')\n",
    "    text = text.replace('there\\'s','there is')\n",
    "    text = text.replace('We\\'ll','We will')\n",
    "    text = text.replace('we\\'ll','we will')\n",
    "    text = text.replace('We\\'ve','We have')\n",
    "    text = text.replace('we\\'ve','we have')\n",
    "    text = text.replace('Where\\'s','Where is')\n",
    "    text = text.replace('where\\'s','where is')\n",
    "    text = text.replace('haven\\'t','have not')\n",
    "    text = text.replace('we\\'d','we would')\n",
    "    text = text.replace('Isn\\'t','Is not')\n",
    "    text = text.replace('isn\\'t','is not')\n",
    "    text = text.replace('you\\'d','you would')\n",
    "    text = text.replace('You\\'d','You would')\n",
    "    text = text.replace('I\\'d','I would')\n",
    "    text = text.replace('aren\\'t','are not')\n",
    "    text = text.replace('you\\'ll','you will')\n",
    "    text = text.replace('You\\'ll','You will')\n",
    "    text = text.replace('it\\'ll','it will')\n",
    "    text = text.replace('It\\'ll','It will')\n",
    "    text = text.replace('weren\\'t','were not')\n",
    "    text = text.replace('men','man')\n",
    "    text = text.replace('lannisters','lannister')\n",
    "    text = text.replace('robb\\'s','robb')\n",
    "    text = text.replace('wasn\\'t','was not')\n",
    "    text = text.replace('\\'','')\n",
    "    text = text.replace('!','')\n",
    "    text = text.replace('-','')\n",
    "    text = text.replace('==','')\n",
    "    text = text.replace(',',' ')\n",
    "    text = text.replace('.',' ')\n",
    "    text = text.replace('?',' ')\n",
    "    text = text.replace('\"',' ')\n",
    "    text = text.lower()\n",
    "    return text"
   ]
  },
  {
   "cell_type": "code",
   "execution_count": 878,
   "metadata": {
    "collapsed": false
   },
   "outputs": [],
   "source": [
    "def review_to_wordlist( review, remove_stopwords=False ):\n",
    "    # Function to convert a document to a sequence of words,\n",
    "    # optionally removing stop words.  Returns a list of words.\n",
    "    #\n",
    "    review_text = review\n",
    "    # 1. Remove HTML\n",
    "    #review_text = BeautifulSoup(review).get_text()\n",
    "    #  \n",
    "    # 2. Remove non-letters\n",
    "    #review_text = re.sub(\"[^a-zA-Z]\",\" \", review_text)\n",
    "    #\n",
    "    # 3. Convert words to lower case and split them\n",
    "    words = review_text.lower().split()\n",
    "    #\n",
    "    # 4. Optionally remove stop words (false by default)\n",
    "    more_stops = ['would','ill','come','one','up.','up','whose','get','',' ','well','say','see','going',\n",
    "                 'like','tell','want','make','know','year','go','yes','take','time','never','could','need',\n",
    "                 'let','enough','many','keep','nothing','oh','look','father','think','cant','thing','still',\n",
    "                  'even','heard','call','back','hear','u','ever','said','better','every','find','may','word',\n",
    "                 'boy','man','lady','woman','give','must','day','done','right','good','always','little','long',\n",
    "                 'seven','girl','son','brother','way','child','king','lord','mother','away','got','whats','ask',\n",
    "                 'wanted','put','first','much','something','friend','sure','course','told','made','war','god',\n",
    "                 'old','people','world']\n",
    "    if remove_stopwords:\n",
    "        stops = set(stopwords.words(\"english\"))\n",
    "        words = [wordnet_lemmatizer.lemmatize(w) for w in words if not w in stops] # lemmatize\n",
    "        words = [w.strip() for w in words if not w in more_stops]\n",
    "    #\n",
    "    # 5. Return a list of words\n",
    "    return(words)"
   ]
  },
  {
   "cell_type": "code",
   "execution_count": 879,
   "metadata": {
    "collapsed": true
   },
   "outputs": [],
   "source": [
    "def review_to_sentences( review, tokenizer, remove_stopwords=False ):\n",
    "    # Function to split a review into parsed sentences. Returns a \n",
    "    # list of sentences, where each sentence is a list of words\n",
    "    #\n",
    "    # 1. Use the NLTK tokenizer to split the paragraph into sentences\n",
    "    raw_sentences = tokenizer.tokenize(review.strip())\n",
    "    #\n",
    "    # 2. Loop over each sentence\n",
    "    sentences = []\n",
    "    for raw_sentence in raw_sentences:\n",
    "        # If a sentence is empty, skip it\n",
    "        if len(raw_sentence) > 0:\n",
    "            # Otherwise, call review_to_wordlist to get a list of words\n",
    "            sentences.append( review_to_wordlist( raw_sentence, \\\n",
    "              remove_stopwords ))\n",
    "    #\n",
    "    # Return the list of sentences (each sentence is a list of words,\n",
    "    # so this returns a list of lists\n",
    "    return sentences"
   ]
  },
  {
   "cell_type": "code",
   "execution_count": 880,
   "metadata": {
    "collapsed": false
   },
   "outputs": [],
   "source": [
    "tokenizer = nltk.data.load('tokenizers/punkt/english.pickle')"
   ]
  },
  {
   "cell_type": "code",
   "execution_count": 991,
   "metadata": {
    "collapsed": false
   },
   "outputs": [],
   "source": [
    "files = os.listdir('s04/')\n",
    "sentences = []\n",
    "for f in files:\n",
    "    try:\n",
    "        subs = pysrt.open('s04/'+f)\n",
    "    except:\n",
    "        continue\n",
    "    text = clean_text(subs.text)\n",
    "    sentences += review_to_sentences(text,tokenizer,remove_stopwords=True)"
   ]
  },
  {
   "cell_type": "code",
   "execution_count": 992,
   "metadata": {
    "collapsed": false
   },
   "outputs": [
    {
     "name": "stderr",
     "output_type": "stream",
     "text": [
      "WARNING:gensim.models.word2vec:under 10 jobs per worker: consider setting a smaller `batch_words' for smoother alpha decay\n"
     ]
    },
    {
     "name": "stdout",
     "output_type": "stream",
     "text": [
      "Training model...\n"
     ]
    }
   ],
   "source": [
    "# Import the built-in logging module and configure it so that Word2Vec \n",
    "# creates nice output messages\n",
    "logging.basicConfig(format='%(asctime)s : %(levelname)s : %(message)s',\\\n",
    "        level=logging.INFO)\n",
    "\n",
    "# Set values for various parameters\n",
    "num_features = 500    # Word vector dimensionality                      \n",
    "min_word_count = 2   # Minimum word count                        \n",
    "num_workers = 4       # Number of threads to run in parallel\n",
    "context = 30          # Context window size                                                                                    \n",
    "downsampling = 1e-3   # Downsample setting for frequent words\n",
    "\n",
    "# Initialize and train the model (this will take some time)\n",
    "print \"Training model...\"\n",
    "model = word2vec.Word2Vec(sentences, workers=num_workers, \\\n",
    "            size=num_features, min_count = min_word_count, \\\n",
    "            window = context, sample = downsampling)\n",
    "\n",
    "# If you don't plan to train the model any further, calling \n",
    "# init_sims will make the model much more memory-efficient.\n",
    "model.init_sims(replace=True)\n",
    "\n",
    "# It can be helpful to create a meaningful model name and \n",
    "# save the model for later use. You can load it later using Word2Vec.load()\n",
    "model_name = \"300features_4minwords_10context\"\n",
    "model.save(model_name)\n"
   ]
  },
  {
   "cell_type": "code",
   "execution_count": 993,
   "metadata": {
    "collapsed": false
   },
   "outputs": [],
   "source": [
    "#model.vocab"
   ]
  },
  {
   "cell_type": "code",
   "execution_count": 994,
   "metadata": {
    "collapsed": false
   },
   "outputs": [
    {
     "data": {
      "text/plain": [
       "[(u'wall', 0.9999886155128479),\n",
       " (u'night', 0.9999884366989136),\n",
       " (u'name', 0.9999882578849792),\n",
       " (u'die', 0.9999881982803345),\n",
       " (u'dead', 0.9999881386756897)]"
      ]
     },
     "execution_count": 994,
     "metadata": {},
     "output_type": "execute_result"
    }
   ],
   "source": [
    "model.most_similar('baratheon',topn=5)"
   ]
  },
  {
   "cell_type": "code",
   "execution_count": 995,
   "metadata": {
    "collapsed": false
   },
   "outputs": [],
   "source": [
    "#model.vocab"
   ]
  },
  {
   "cell_type": "code",
   "execution_count": 996,
   "metadata": {
    "collapsed": false
   },
   "outputs": [
    {
     "data": {
      "text/plain": [
       "'robb'"
      ]
     },
     "execution_count": 996,
     "metadata": {},
     "output_type": "execute_result"
    }
   ],
   "source": [
    "model.doesnt_match('arya robb sansa snow catelyn'.split())"
   ]
  },
  {
   "cell_type": "code",
   "execution_count": 997,
   "metadata": {
    "collapsed": false
   },
   "outputs": [
    {
     "data": {
      "text/plain": [
       "0.99995842077601482"
      ]
     },
     "execution_count": 997,
     "metadata": {},
     "output_type": "execute_result"
    }
   ],
   "source": [
    "model.similarity('arya','hound')"
   ]
  },
  {
   "cell_type": "code",
   "execution_count": null,
   "metadata": {
    "collapsed": true
   },
   "outputs": [],
   "source": []
  }
 ],
 "metadata": {
  "kernelspec": {
   "display_name": "Python 2",
   "language": "python",
   "name": "python2"
  },
  "language_info": {
   "codemirror_mode": {
    "name": "ipython",
    "version": 2
   },
   "file_extension": ".py",
   "mimetype": "text/x-python",
   "name": "python",
   "nbconvert_exporter": "python",
   "pygments_lexer": "ipython2",
   "version": "2.7.11"
  }
 },
 "nbformat": 4,
 "nbformat_minor": 0
}
